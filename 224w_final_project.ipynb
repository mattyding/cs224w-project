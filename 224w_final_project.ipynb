{
  "nbformat": 4,
  "nbformat_minor": 0,
  "metadata": {
    "colab": {
      "provenance": [],
      "collapsed_sections": [
        "bVwOZ6HZngsD"
      ]
    },
    "kernelspec": {
      "name": "python3",
      "display_name": "Python 3"
    },
    "language_info": {
      "name": "python"
    }
  },
  "cells": [
    {
      "cell_type": "markdown",
      "source": [
        "### Installation"
      ],
      "metadata": {
        "id": "bVwOZ6HZngsD"
      }
    },
    {
      "cell_type": "code",
      "source": [
        "import torch\n",
        "import os\n",
        "print(\"PyTorch has version {}\".format(torch.__version__))\n",
        "\n",
        "# Install torch geometric\n",
        "!pip install torch-scatter -f https://pytorch-geometric.com/whl/torch-1.13.1+cu116.html\n",
        "!pip install torch-sparse -f https://pytorch-geometric.com/whl/torch-1.13.1+cu116.html\n",
        "!pip install torch-geometric\n",
        "!pip install ogb"
      ],
      "metadata": {
        "colab": {
          "base_uri": "https://localhost:8080/"
        },
        "id": "QaNg6mj4leyL",
        "outputId": "71ce99e6-6569-4a57-d5ee-31065072fb99"
      },
      "execution_count": null,
      "outputs": [
        {
          "output_type": "stream",
          "name": "stdout",
          "text": [
            "PyTorch has version 1.13.1+cu116\n",
            "Looking in indexes: https://pypi.org/simple, https://us-python.pkg.dev/colab-wheels/public/simple/\n",
            "Looking in links: https://pytorch-geometric.com/whl/torch-1.13.1+cu116.html\n",
            "Requirement already satisfied: torch-scatter in /usr/local/lib/python3.9/dist-packages (2.1.0+pt113cu116)\n",
            "Looking in indexes: https://pypi.org/simple, https://us-python.pkg.dev/colab-wheels/public/simple/\n",
            "Looking in links: https://pytorch-geometric.com/whl/torch-1.13.1+cu116.html\n",
            "Requirement already satisfied: torch-sparse in /usr/local/lib/python3.9/dist-packages (0.6.16+pt113cu116)\n",
            "Requirement already satisfied: scipy in /usr/local/lib/python3.9/dist-packages (from torch-sparse) (1.10.1)\n",
            "Requirement already satisfied: numpy<1.27.0,>=1.19.5 in /usr/local/lib/python3.9/dist-packages (from scipy->torch-sparse) (1.22.4)\n",
            "Looking in indexes: https://pypi.org/simple, https://us-python.pkg.dev/colab-wheels/public/simple/\n",
            "Requirement already satisfied: torch-geometric in /usr/local/lib/python3.9/dist-packages (2.2.0)\n",
            "Requirement already satisfied: pyparsing in /usr/local/lib/python3.9/dist-packages (from torch-geometric) (3.0.9)\n",
            "Requirement already satisfied: jinja2 in /usr/local/lib/python3.9/dist-packages (from torch-geometric) (3.1.2)\n",
            "Requirement already satisfied: requests in /usr/local/lib/python3.9/dist-packages (from torch-geometric) (2.25.1)\n",
            "Requirement already satisfied: psutil>=5.8.0 in /usr/local/lib/python3.9/dist-packages (from torch-geometric) (5.9.4)\n",
            "Requirement already satisfied: scipy in /usr/local/lib/python3.9/dist-packages (from torch-geometric) (1.10.1)\n",
            "Requirement already satisfied: scikit-learn in /usr/local/lib/python3.9/dist-packages (from torch-geometric) (1.2.1)\n",
            "Requirement already satisfied: tqdm in /usr/local/lib/python3.9/dist-packages (from torch-geometric) (4.65.0)\n",
            "Requirement already satisfied: numpy in /usr/local/lib/python3.9/dist-packages (from torch-geometric) (1.22.4)\n",
            "Requirement already satisfied: MarkupSafe>=2.0 in /usr/local/lib/python3.9/dist-packages (from jinja2->torch-geometric) (2.1.2)\n",
            "Requirement already satisfied: idna<3,>=2.5 in /usr/local/lib/python3.9/dist-packages (from requests->torch-geometric) (2.10)\n",
            "Requirement already satisfied: certifi>=2017.4.17 in /usr/local/lib/python3.9/dist-packages (from requests->torch-geometric) (2022.12.7)\n",
            "Requirement already satisfied: urllib3<1.27,>=1.21.1 in /usr/local/lib/python3.9/dist-packages (from requests->torch-geometric) (1.26.14)\n",
            "Requirement already satisfied: chardet<5,>=3.0.2 in /usr/local/lib/python3.9/dist-packages (from requests->torch-geometric) (4.0.0)\n",
            "Requirement already satisfied: joblib>=1.1.1 in /usr/local/lib/python3.9/dist-packages (from scikit-learn->torch-geometric) (1.2.0)\n",
            "Requirement already satisfied: threadpoolctl>=2.0.0 in /usr/local/lib/python3.9/dist-packages (from scikit-learn->torch-geometric) (3.1.0)\n",
            "Looking in indexes: https://pypi.org/simple, https://us-python.pkg.dev/colab-wheels/public/simple/\n",
            "Requirement already satisfied: ogb in /usr/local/lib/python3.9/dist-packages (1.3.5)\n",
            "Requirement already satisfied: six>=1.12.0 in /usr/local/lib/python3.9/dist-packages (from ogb) (1.15.0)\n",
            "Requirement already satisfied: urllib3>=1.24.0 in /usr/local/lib/python3.9/dist-packages (from ogb) (1.26.14)\n",
            "Requirement already satisfied: numpy>=1.16.0 in /usr/local/lib/python3.9/dist-packages (from ogb) (1.22.4)\n",
            "Requirement already satisfied: tqdm>=4.29.0 in /usr/local/lib/python3.9/dist-packages (from ogb) (4.65.0)\n",
            "Requirement already satisfied: pandas>=0.24.0 in /usr/local/lib/python3.9/dist-packages (from ogb) (1.3.5)\n",
            "Requirement already satisfied: scikit-learn>=0.20.0 in /usr/local/lib/python3.9/dist-packages (from ogb) (1.2.1)\n",
            "Requirement already satisfied: outdated>=0.2.0 in /usr/local/lib/python3.9/dist-packages (from ogb) (0.2.2)\n",
            "Requirement already satisfied: torch>=1.6.0 in /usr/local/lib/python3.9/dist-packages (from ogb) (1.13.1+cu116)\n",
            "Requirement already satisfied: littleutils in /usr/local/lib/python3.9/dist-packages (from outdated>=0.2.0->ogb) (0.2.2)\n",
            "Requirement already satisfied: requests in /usr/local/lib/python3.9/dist-packages (from outdated>=0.2.0->ogb) (2.25.1)\n",
            "Requirement already satisfied: setuptools>=44 in /usr/local/lib/python3.9/dist-packages (from outdated>=0.2.0->ogb) (57.4.0)\n",
            "Requirement already satisfied: python-dateutil>=2.7.3 in /usr/local/lib/python3.9/dist-packages (from pandas>=0.24.0->ogb) (2.8.2)\n",
            "Requirement already satisfied: pytz>=2017.3 in /usr/local/lib/python3.9/dist-packages (from pandas>=0.24.0->ogb) (2022.7.1)\n",
            "Requirement already satisfied: scipy>=1.3.2 in /usr/local/lib/python3.9/dist-packages (from scikit-learn>=0.20.0->ogb) (1.10.1)\n",
            "Requirement already satisfied: threadpoolctl>=2.0.0 in /usr/local/lib/python3.9/dist-packages (from scikit-learn>=0.20.0->ogb) (3.1.0)\n",
            "Requirement already satisfied: joblib>=1.1.1 in /usr/local/lib/python3.9/dist-packages (from scikit-learn>=0.20.0->ogb) (1.2.0)\n",
            "Requirement already satisfied: typing-extensions in /usr/local/lib/python3.9/dist-packages (from torch>=1.6.0->ogb) (4.5.0)\n",
            "Requirement already satisfied: certifi>=2017.4.17 in /usr/local/lib/python3.9/dist-packages (from requests->outdated>=0.2.0->ogb) (2022.12.7)\n",
            "Requirement already satisfied: idna<3,>=2.5 in /usr/local/lib/python3.9/dist-packages (from requests->outdated>=0.2.0->ogb) (2.10)\n",
            "Requirement already satisfied: chardet<5,>=3.0.2 in /usr/local/lib/python3.9/dist-packages (from requests->outdated>=0.2.0->ogb) (4.0.0)\n"
          ]
        }
      ]
    },
    {
      "cell_type": "markdown",
      "source": [
        "### Load datasets"
      ],
      "metadata": {
        "id": "3zvAmQjGnjEV"
      }
    },
    {
      "cell_type": "code",
      "source": [
        "import torch_geometric.transforms as T\n",
        "from ogb.nodeproppred import PygNodePropPredDataset, Evaluator\n",
        "\n",
        "from ogb.linkproppred import PygLinkPropPredDataset"
      ],
      "metadata": {
        "id": "XhUI_6WPnq1o"
      },
      "execution_count": null,
      "outputs": []
    },
    {
      "cell_type": "code",
      "source": [
        "def load_node_dataset(dataset_name):\n",
        "    # Load the dataset and transform it to sparse tensor\n",
        "    dataset = PygNodePropPredDataset(name=dataset_name,\n",
        "                                    transform=T.ToSparseTensor())\n",
        "    print('The {} dataset has {} graph'.format(dataset_name, len(dataset)))\n",
        "\n",
        "    # Split\n",
        "    split_idx = dataset.get_idx_split()\n",
        "\n",
        "    # Extract the graph\n",
        "    data = dataset[0]\n",
        "\n",
        "    print('Task type: {}'.format(dataset.task_type))\n",
        "\n",
        "    return dataset, split_idx, data \n"
      ],
      "metadata": {
        "id": "Ik0HdHw7Kq1P"
      },
      "execution_count": null,
      "outputs": []
    },
    {
      "cell_type": "code",
      "source": [
        "# load edge dataset \n",
        "d_name = 'ogbl-collab'\n",
        "dataset = PygLinkPropPredDataset(name = d_name) \n",
        "\n",
        "split_edge = dataset.get_edge_split()\n",
        "train_edge, valid_edge, test_edge = split_edge[\"train\"], split_edge[\"valid\"], split_edge[\"test\"]\n",
        "graph = dataset[0] # pyg graph object containing only training edges\n",
        "\n"
      ],
      "metadata": {
        "collapsed": true,
        "id": "CSNtev4ilmGv"
      },
      "execution_count": null,
      "outputs": []
    },
    {
      "cell_type": "code",
      "source": [
        "dataset_arxiv, split_arxiv, data_arxiv = load_node_dataset(dataset_name='ogbn-arxiv')\n",
        "# dataset_mag, split_mag, data_mag = load_node_dataset(dataset_name='ogbn-mag')"
      ],
      "metadata": {
        "id": "OT09Z8TipVeS"
      },
      "execution_count": null,
      "outputs": []
    },
    {
      "cell_type": "markdown",
      "source": [
        "### Baseline GNNs"
      ],
      "metadata": {
        "id": "CdcsyAeCpZge"
      }
    },
    {
      "cell_type": "code",
      "source": [
        "import torch\n",
        "import torch_scatter\n",
        "import torch.nn as nn\n",
        "import torch.nn.functional as F\n",
        "\n",
        "import torch_geometric.nn as pyg_nn\n",
        "import torch_geometric.utils as pyg_utils\n",
        "\n",
        "from torch import Tensor\n",
        "from typing import Union, Tuple, Optional\n",
        "from torch_geometric.typing import (OptPairTensor, Adj, Size, NoneType,\n",
        "                                    OptTensor)\n",
        "\n",
        "from torch.nn import Parameter, Linear\n",
        "from torch_sparse import SparseTensor, set_diag\n",
        "from torch_geometric.nn.conv import MessagePassing\n",
        "from torch_geometric.utils import remove_self_loops, add_self_loops, softmax, degree\n",
        "\n",
        "from torch_geometric.nn import GCNConv,GATConv,GATv2Conv\n",
        "import pickle"
      ],
      "metadata": {
        "id": "-ewbsTJsOhk9"
      },
      "execution_count": null,
      "outputs": []
    },
    {
      "cell_type": "code",
      "source": [
        "from torch.nn import BatchNorm1d, Dropout, Linear, ReLU\n",
        "from torch_geometric.nn import Sequential, GCNConv\n",
        "\n",
        "class GCN(torch.nn.Module):\n",
        "  def __init__(self, input_dim, output_dim, dropout):\n",
        "    super(GCN, self).__init__()\n",
        "    self.model = Sequential('x, edge_index', [\n",
        "        (GCNConv(input_dim, 64), 'x, edge_index -> x'),\n",
        "        BatchNorm1d(64),\n",
        "        ReLU(),\n",
        "        Dropout(p=dropout),\n",
        "        (GCNConv(64, 64), 'x, edge_index -> x'),\n",
        "        BatchNorm1d(64),\n",
        "        ReLU(),\n",
        "        Dropout(p=dropout),\n",
        "        Linear(64, output_dim),\n",
        "    ])\n",
        "  \n",
        "  def reset_parameters(self):\n",
        "    for layer in self.model.children():\n",
        "      if hasattr(layer, 'reset_parameters'):\n",
        "        layer.reset_parameters()\n",
        "  \n",
        "  def forward(self, x, adj_t):\n",
        "    return self.model(x, adj_t)"
      ],
      "metadata": {
        "id": "i7PAgOrBePj_"
      },
      "execution_count": null,
      "outputs": []
    },
    {
      "cell_type": "code",
      "source": [
        "def train(model, data, train_idx, optimizer, loss_fn):\n",
        "      model.train()\n",
        "      loss = 0\n",
        "      optimizer.zero_grad()\n",
        "      out = model(data.x, data.adj_t)\n",
        "      loss = loss_fn(out[train_idx], data.y[train_idx][:, 0])\n",
        "      loss.backward()\n",
        "      optimizer.step()\n",
        "\n",
        "      return loss.item()"
      ],
      "metadata": {
        "id": "RSIkF76eiCaR"
      },
      "execution_count": null,
      "outputs": []
    },
    {
      "cell_type": "code",
      "source": [
        "import pandas as pd\n",
        "\n",
        "@torch.no_grad()\n",
        "def test(model, data, split_idx, evaluator, save_model_results=False):\n",
        "    model.eval()\n",
        "    out = model(data.x, data.adj_t)\n",
        "\n",
        "    y_pred = out.argmax(dim=-1, keepdim=True)\n",
        "\n",
        "    train_acc = evaluator.eval({\n",
        "        'y_true': data.y[split_idx['train']],\n",
        "        'y_pred': y_pred[split_idx['train']],\n",
        "    })['acc']\n",
        "    valid_acc = evaluator.eval({\n",
        "        'y_true': data.y[split_idx['valid']],\n",
        "        'y_pred': y_pred[split_idx['valid']],\n",
        "    })['acc']\n",
        "    test_acc = evaluator.eval({\n",
        "        'y_true': data.y[split_idx['test']],\n",
        "        'y_pred': y_pred[split_idx['test']],\n",
        "    })['acc']\n",
        "\n",
        "    if save_model_results:\n",
        "      print (\"Saving Model Predictions\")\n",
        "\n",
        "      data = {}\n",
        "      data['y_pred'] = y_pred.view(-1).cpu().detach().numpy()\n",
        "\n",
        "      df = pd.DataFrame(data=data)\n",
        "      # Save locally as csv\n",
        "      df.to_csv('ogbn-arxiv_node.csv', sep=',', index=False)\n",
        "\n",
        "\n",
        "    return train_acc, valid_acc, test_acc"
      ],
      "metadata": {
        "id": "CxWRitOTiRrv"
      },
      "execution_count": null,
      "outputs": []
    },
    {
      "cell_type": "code",
      "source": [
        "device = 'cuda' if torch.cuda.is_available() else 'cpu'\n",
        "gcn_model = GCN(dataset_arxiv.num_features, dataset_arxiv.num_classes, dropout=0.5).to(device)\n",
        "evaluator = Evaluator(name='ogbn-arxiv')"
      ],
      "metadata": {
        "id": "6aSq0aJYmrWE"
      },
      "execution_count": null,
      "outputs": []
    },
    {
      "cell_type": "code",
      "source": [
        "import copy\n",
        "\n",
        "gcn_model.reset_parameters()\n",
        "\n",
        "optimizer = torch.optim.Adam(gcn_model.parameters(), lr=0.001)\n",
        "loss_fn = F.nll_loss\n",
        "\n",
        "best_model = None\n",
        "best_valid_acc = 0\n",
        "\n",
        "for epoch in range(1, 1 + 100):\n",
        "  loss = train(gcn_model, data_arxiv, split_arxiv['train'], optimizer, loss_fn)\n",
        "  result = test(gcn_model, data_arxiv, split_arxiv, evaluator)\n",
        "  train_acc, valid_acc, test_acc = result\n",
        "  if valid_acc > best_valid_acc:\n",
        "      best_valid_acc = valid_acc\n",
        "      best_model = copy.deepcopy(gcn_model)\n",
        "  print(f'Epoch: {epoch:02d}, '\n",
        "        f'Loss: {loss:.4f}, '\n",
        "        f'Train: {100 * train_acc:.2f}%, '\n",
        "        f'Valid: {100 * valid_acc:.2f}% '\n",
        "        f'Test: {100 * test_acc:.2f}%')"
      ],
      "metadata": {
        "id": "-dcjVUW-nq6g"
      },
      "execution_count": null,
      "outputs": []
    },
    {
      "cell_type": "markdown",
      "source": [
        "### graveyard\n"
      ],
      "metadata": {
        "id": "2X5vF6jzpgJ8"
      }
    },
    {
      "cell_type": "code",
      "source": [
        "# from torch_geometric.datasets import OGB_MAG\n",
        "\n",
        "# dataset_mag = OGB_MAG(root='./data', preprocess='metapath2vec', transform=T.ToUndirected())\n",
        "# data_mag = dataset[0]\n",
        "\n",
        "# from torch_geometric.nn import SAGEConv, to_hetero\n",
        "\n",
        "# class GNN(torch.nn.Module):\n",
        "#     def __init__(self, hidden_channels, out_channels):\n",
        "#         super().__init__()\n",
        "#         self.conv1 = SAGEConv((-1, -1), hidden_channels)\n",
        "#         self.conv2 = SAGEConv((-1, -1), out_channels)\n",
        "\n",
        "#     def forward(self, x, edge_index):\n",
        "#         x = self.conv1(x, edge_index).relu()\n",
        "#         x = self.conv2(x, edge_index)\n",
        "#         return x\n",
        "\n",
        "\n",
        "# model = GNN(hidden_channels=64, out_channels=dataset.num_classes)\n",
        "# model = to_hetero(model, data_mag.metadata(), aggr='sum')\n",
        "\n",
        "# node_types = ['paper', 'author']\n",
        "# edge_types = [\n",
        "#     ('paper', 'cites', 'paper'),\n",
        "#     ('paper', 'written_by', 'author'),\n",
        "#     ('author', 'writes', 'paper'),\n",
        "# ]\n",
        "# metadata = (node_types, edge_types)\n",
        "\n",
        "# from torch_geometric.nn import GCNConv\n",
        "\n",
        "# class GCN(torch.nn.Module):\n",
        "#   def __init__(self, input_dim, hidden_dim, output_dim):\n",
        "#     self.conv1 = GCNConv(in_channels=input_dim, out_channels=hidden_dim)\n",
        "#     self.conv2 = GCNConv(in_channels=hidden_dim, out_channels=hidden_dim)\n",
        "\n",
        "# # NOTE: idk rly if we're allowed to use colab code because it seems to me that these will be public (?) after the class and idk if they want official solutions/implementations floating around the internet? i'll make a post on ed"
      ],
      "metadata": {
        "id": "rJGB2BD2Y7Gd"
      },
      "execution_count": null,
      "outputs": []
    },
    {
      "cell_type": "markdown",
      "source": [
        "### Graph CL Augmentations\n"
      ],
      "metadata": {
        "id": "U6E-WWuuQ2jV"
      }
    }
  ]
}