{
  "cells": [
    {
      "cell_type": "markdown",
      "metadata": {
        "id": "tNSKfDgt704Z"
      },
      "source": [
        "## Molecule odor prediction via GINs with self-supervised contrastive pretraining\n",
        "*Stanford CS224W project by Sarah Chen, Matthew Ding, and Cathy Zhou*\n",
        "\n",
        "- Before running the notebook, change the Colab runtime type to use a GPU\n"
      ]
    },
    {
      "cell_type": "code",
      "execution_count": 1,
      "metadata": {
        "id": "D201UzungCX2"
      },
      "outputs": [],
      "source": [
        "# toggle whether or not to use pretraining\n",
        "use_pretraining = False"
      ]
    },
    {
      "cell_type": "markdown",
      "metadata": {
        "id": "44Xno8Fj8Msz"
      },
      "source": [
        "### Installations\n",
        "\n",
        "We install various dependencies."
      ]
    },
    {
      "cell_type": "code",
      "execution_count": 2,
      "metadata": {
        "colab": {
          "base_uri": "https://localhost:8080/"
        },
        "id": "lJWNTJNDe5P7",
        "outputId": "e8bedbc8-af51-41ac-87ed-f094b59da4b5"
      },
      "outputs": [
        {
          "output_type": "stream",
          "name": "stdout",
          "text": [
            "PyTorch has version 1.13.1+cu116\n",
            "Looking in indexes: https://pypi.org/simple, https://us-python.pkg.dev/colab-wheels/public/simple/\n",
            "Looking in links: https://pytorch-geometric.com/whl/torch-1.13.1+cu116.html\n",
            "Collecting torch-scatter\n",
            "  Downloading https://data.pyg.org/whl/torch-1.13.0%2Bcu116/torch_scatter-2.1.1%2Bpt113cu116-cp39-cp39-linux_x86_64.whl (9.4 MB)\n",
            "\u001b[2K     \u001b[90m━━━━━━━━━━━━━━━━━━━━━━━━━━━━━━━━━━━━━━━━\u001b[0m \u001b[32m9.4/9.4 MB\u001b[0m \u001b[31m10.3 MB/s\u001b[0m eta \u001b[36m0:00:00\u001b[0m\n",
            "\u001b[?25hInstalling collected packages: torch-scatter\n",
            "Successfully installed torch-scatter-2.1.1+pt113cu116\n",
            "Looking in indexes: https://pypi.org/simple, https://us-python.pkg.dev/colab-wheels/public/simple/\n",
            "Looking in links: https://pytorch-geometric.com/whl/torch-1.13.1+cu116.html\n",
            "Collecting torch-sparse\n",
            "  Downloading https://data.pyg.org/whl/torch-1.13.0%2Bcu116/torch_sparse-0.6.17%2Bpt113cu116-cp39-cp39-linux_x86_64.whl (4.5 MB)\n",
            "\u001b[2K     \u001b[90m━━━━━━━━━━━━━━━━━━━━━━━━━━━━━━━━━━━━━━━━\u001b[0m \u001b[32m4.5/4.5 MB\u001b[0m \u001b[31m7.7 MB/s\u001b[0m eta \u001b[36m0:00:00\u001b[0m\n",
            "\u001b[?25hRequirement already satisfied: scipy in /usr/local/lib/python3.9/dist-packages (from torch-sparse) (1.10.1)\n",
            "Requirement already satisfied: numpy<1.27.0,>=1.19.5 in /usr/local/lib/python3.9/dist-packages (from scipy->torch-sparse) (1.22.4)\n",
            "Installing collected packages: torch-sparse\n",
            "Successfully installed torch-sparse-0.6.17+pt113cu116\n",
            "Looking in indexes: https://pypi.org/simple, https://us-python.pkg.dev/colab-wheels/public/simple/\n",
            "Collecting git+https://github.com/pyg-team/pytorch_geometric.git\n",
            "  Cloning https://github.com/pyg-team/pytorch_geometric.git to /tmp/pip-req-build-bki6shkf\n",
            "  Running command git clone --filter=blob:none --quiet https://github.com/pyg-team/pytorch_geometric.git /tmp/pip-req-build-bki6shkf\n",
            "  Resolved https://github.com/pyg-team/pytorch_geometric.git to commit c78f358bb664a15650c68113f7108be89aca98da\n",
            "  Installing build dependencies ... \u001b[?25l\u001b[?25hdone\n",
            "  Getting requirements to build wheel ... \u001b[?25l\u001b[?25hdone\n",
            "  Preparing metadata (pyproject.toml) ... \u001b[?25l\u001b[?25hdone\n",
            "Requirement already satisfied: scipy in /usr/local/lib/python3.9/dist-packages (from torch-geometric==2.3.0) (1.10.1)\n",
            "Requirement already satisfied: psutil>=5.8.0 in /usr/local/lib/python3.9/dist-packages (from torch-geometric==2.3.0) (5.9.4)\n",
            "Requirement already satisfied: jinja2 in /usr/local/lib/python3.9/dist-packages (from torch-geometric==2.3.0) (3.1.2)\n",
            "Requirement already satisfied: pyparsing in /usr/local/lib/python3.9/dist-packages (from torch-geometric==2.3.0) (3.0.9)\n",
            "Requirement already satisfied: scikit-learn in /usr/local/lib/python3.9/dist-packages (from torch-geometric==2.3.0) (1.2.2)\n",
            "Requirement already satisfied: numpy in /usr/local/lib/python3.9/dist-packages (from torch-geometric==2.3.0) (1.22.4)\n",
            "Requirement already satisfied: requests in /usr/local/lib/python3.9/dist-packages (from torch-geometric==2.3.0) (2.27.1)\n",
            "Requirement already satisfied: tqdm in /usr/local/lib/python3.9/dist-packages (from torch-geometric==2.3.0) (4.65.0)\n",
            "Requirement already satisfied: MarkupSafe>=2.0 in /usr/local/lib/python3.9/dist-packages (from jinja2->torch-geometric==2.3.0) (2.1.2)\n",
            "Requirement already satisfied: certifi>=2017.4.17 in /usr/local/lib/python3.9/dist-packages (from requests->torch-geometric==2.3.0) (2022.12.7)\n",
            "Requirement already satisfied: charset-normalizer~=2.0.0 in /usr/local/lib/python3.9/dist-packages (from requests->torch-geometric==2.3.0) (2.0.12)\n",
            "Requirement already satisfied: idna<4,>=2.5 in /usr/local/lib/python3.9/dist-packages (from requests->torch-geometric==2.3.0) (3.4)\n",
            "Requirement already satisfied: urllib3<1.27,>=1.21.1 in /usr/local/lib/python3.9/dist-packages (from requests->torch-geometric==2.3.0) (1.26.15)\n",
            "Requirement already satisfied: joblib>=1.1.1 in /usr/local/lib/python3.9/dist-packages (from scikit-learn->torch-geometric==2.3.0) (1.1.1)\n",
            "Requirement already satisfied: threadpoolctl>=2.0.0 in /usr/local/lib/python3.9/dist-packages (from scikit-learn->torch-geometric==2.3.0) (3.1.0)\n",
            "Building wheels for collected packages: torch-geometric\n",
            "  Building wheel for torch-geometric (pyproject.toml) ... \u001b[?25l\u001b[?25hdone\n",
            "  Created wheel for torch-geometric: filename=torch_geometric-2.3.0-py3-none-any.whl size=909897 sha256=e5da01c9212f1a5018e5d122cc500043f3d5c53eae296e6e45afcc7976cd33d4\n",
            "  Stored in directory: /tmp/pip-ephem-wheel-cache-1zagdto5/wheels/e5/8a/bc/10228fa47bb01dd916740a9102c063c4e363e7dac6d55dba4a\n",
            "Successfully built torch-geometric\n",
            "Installing collected packages: torch-geometric\n",
            "Successfully installed torch-geometric-2.3.0\n",
            "Looking in indexes: https://pypi.org/simple, https://us-python.pkg.dev/colab-wheels/public/simple/\n",
            "Collecting pyrfume\n",
            "  Downloading pyrfume-0.18.4-py3-none-any.whl (62 kB)\n",
            "\u001b[2K     \u001b[90m━━━━━━━━━━━━━━━━━━━━━━━━━━━━━━━━━━━━━━━━\u001b[0m \u001b[32m62.4/62.4 KB\u001b[0m \u001b[31m2.7 MB/s\u001b[0m eta \u001b[36m0:00:00\u001b[0m\n",
            "\u001b[?25hRequirement already satisfied: pandas>=1.4 in /usr/local/lib/python3.9/dist-packages (from pyrfume) (1.4.4)\n",
            "Collecting eden-kernel<0.4.0,>=0.3.1348\n",
            "  Downloading eden-kernel-0.3.1348.tar.gz (250 kB)\n",
            "\u001b[2K     \u001b[90m━━━━━━━━━━━━━━━━━━━━━━━━━━━━━━━━━━━━━━━\u001b[0m \u001b[32m250.6/250.6 KB\u001b[0m \u001b[31m9.0 MB/s\u001b[0m eta \u001b[36m0:00:00\u001b[0m\n",
            "\u001b[?25h  Preparing metadata (setup.py) ... \u001b[?25l\u001b[?25hdone\n",
            "Requirement already satisfied: sympy>=1.6 in /usr/local/lib/python3.9/dist-packages (from pyrfume) (1.11.1)\n",
            "Requirement already satisfied: toml<0.11.0,>=0.10.2 in /usr/local/lib/python3.9/dist-packages (from pyrfume) (0.10.2)\n",
            "Requirement already satisfied: numpy>=1.22 in /usr/local/lib/python3.9/dist-packages (from pyrfume) (1.22.4)\n",
            "Collecting PubChemPy<2.0.0,>=1.0.4\n",
            "  Downloading PubChemPy-1.0.4.tar.gz (29 kB)\n",
            "  Preparing metadata (setup.py) ... \u001b[?25l\u001b[?25hdone\n",
            "Requirement already satisfied: plotly<6.0.0,>=5.9.0 in /usr/local/lib/python3.9/dist-packages (from pyrfume) (5.13.1)\n",
            "Collecting rdkit-pypi<2023.0.0,>=2022.3.4\n",
            "  Downloading rdkit_pypi-2022.9.5-cp39-cp39-manylinux_2_17_x86_64.manylinux2014_x86_64.whl (29.4 MB)\n",
            "\u001b[2K     \u001b[90m━━━━━━━━━━━━━━━━━━━━━━━━━━━━━━━━━━━━━━━━\u001b[0m \u001b[32m29.4/29.4 MB\u001b[0m \u001b[31m39.6 MB/s\u001b[0m eta \u001b[36m0:00:00\u001b[0m\n",
            "\u001b[?25hCollecting datajoint>0.12\n",
            "  Downloading datajoint-0.14.0-py3-none-any.whl (98 kB)\n",
            "\u001b[2K     \u001b[90m━━━━━━━━━━━━━━━━━━━━━━━━━━━━━━━━━━━━━━━━\u001b[0m \u001b[32m98.9/98.9 KB\u001b[0m \u001b[31m11.6 MB/s\u001b[0m eta \u001b[36m0:00:00\u001b[0m\n",
            "\u001b[?25hRequirement already satisfied: scikit-learn>=0.23.1 in /usr/local/lib/python3.9/dist-packages (from pyrfume) (1.2.2)\n",
            "Collecting ipykernel>=5.5.6\n",
            "  Downloading ipykernel-6.22.0-py3-none-any.whl (149 kB)\n",
            "\u001b[2K     \u001b[90m━━━━━━━━━━━━━━━━━━━━━━━━━━━━━━━━━━━━━━\u001b[0m \u001b[32m150.0/150.0 KB\u001b[0m \u001b[31m16.3 MB/s\u001b[0m eta \u001b[36m0:00:00\u001b[0m\n",
            "\u001b[?25hRequirement already satisfied: requests>=2.20.0 in /usr/local/lib/python3.9/dist-packages (from pyrfume) (2.27.1)\n",
            "Collecting mordred<2.0.0,>=1.2.0\n",
            "  Downloading mordred-1.2.0.tar.gz (128 kB)\n",
            "\u001b[2K     \u001b[90m━━━━━━━━━━━━━━━━━━━━━━━━━━━━━━━━━━━━━━\u001b[0m \u001b[32m128.8/128.8 KB\u001b[0m \u001b[31m14.5 MB/s\u001b[0m eta \u001b[36m0:00:00\u001b[0m\n",
            "\u001b[?25h  Preparing metadata (setup.py) ... \u001b[?25l\u001b[?25hdone\n",
            "Collecting quantities<0.14.0,>=0.13.0\n",
            "  Downloading quantities-0.13.0.tar.gz (85 kB)\n",
            "\u001b[2K     \u001b[90m━━━━━━━━━━━━━━━━━━━━━━━━━━━━━━━━━━━━━━━━\u001b[0m \u001b[32m86.0/86.0 KB\u001b[0m \u001b[31m9.8 MB/s\u001b[0m eta \u001b[36m0:00:00\u001b[0m\n",
            "\u001b[?25h  Preparing metadata (setup.py) ... \u001b[?25l\u001b[?25hdone\n",
            "Requirement already satisfied: scipy>=1.8 in /usr/local/lib/python3.9/dist-packages (from pyrfume) (1.10.1)\n",
            "Requirement already satisfied: pyparsing in /usr/local/lib/python3.9/dist-packages (from datajoint>0.12->pyrfume) (3.0.9)\n",
            "Requirement already satisfied: matplotlib in /usr/local/lib/python3.9/dist-packages (from datajoint>0.12->pyrfume) (3.7.1)\n",
            "Collecting pymysql>=0.7.2\n",
            "  Downloading PyMySQL-1.0.2-py3-none-any.whl (43 kB)\n",
            "\u001b[2K     \u001b[90m━━━━━━━━━━━━━━━━━━━━━━━━━━━━━━━━━━━━━━━━\u001b[0m \u001b[32m43.8/43.8 KB\u001b[0m \u001b[31m4.5 MB/s\u001b[0m eta \u001b[36m0:00:00\u001b[0m\n",
            "\u001b[?25hCollecting networkx<=2.6.3\n",
            "  Downloading networkx-2.6.3-py3-none-any.whl (1.9 MB)\n",
            "\u001b[2K     \u001b[90m━━━━━━━━━━━━━━━━━━━━━━━━━━━━━━━━━━━━━━━━\u001b[0m \u001b[32m1.9/1.9 MB\u001b[0m \u001b[31m65.8 MB/s\u001b[0m eta \u001b[36m0:00:00\u001b[0m\n",
            "\u001b[?25hCollecting otumat\n",
            "  Downloading otumat-0.3.1-py3-none-any.whl (15 kB)\n",
            "Collecting cryptography\n",
            "  Downloading cryptography-39.0.2-cp36-abi3-manylinux_2_28_x86_64.whl (4.2 MB)\n",
            "\u001b[2K     \u001b[90m━━━━━━━━━━━━━━━━━━━━━━━━━━━━━━━━━━━━━━━━\u001b[0m \u001b[32m4.2/4.2 MB\u001b[0m \u001b[31m83.8 MB/s\u001b[0m eta \u001b[36m0:00:00\u001b[0m\n",
            "\u001b[?25hCollecting minio>=7.0.0\n",
            "  Downloading minio-7.1.13-py3-none-any.whl (76 kB)\n",
            "\u001b[2K     \u001b[90m━━━━━━━━━━━━━━━━━━━━━━━━━━━━━━━━━━━━━━━━\u001b[0m \u001b[32m76.2/76.2 KB\u001b[0m \u001b[31m8.2 MB/s\u001b[0m eta \u001b[36m0:00:00\u001b[0m\n",
            "\u001b[?25hRequirement already satisfied: pydot in /usr/local/lib/python3.9/dist-packages (from datajoint>0.12->pyrfume) (1.4.2)\n",
            "Requirement already satisfied: urllib3 in /usr/local/lib/python3.9/dist-packages (from datajoint>0.12->pyrfume) (1.26.15)\n",
            "Requirement already satisfied: tqdm in /usr/local/lib/python3.9/dist-packages (from datajoint>0.12->pyrfume) (4.65.0)\n",
            "Requirement already satisfied: ipython in /usr/local/lib/python3.9/dist-packages (from datajoint>0.12->pyrfume) (7.9.0)\n",
            "Collecting dill\n",
            "  Downloading dill-0.3.6-py3-none-any.whl (110 kB)\n",
            "\u001b[2K     \u001b[90m━━━━━━━━━━━━━━━━━━━━━━━━━━━━━━━━━━━━━━\u001b[0m \u001b[32m110.5/110.5 KB\u001b[0m \u001b[31m12.4 MB/s\u001b[0m eta \u001b[36m0:00:00\u001b[0m\n",
            "\u001b[?25hRequirement already satisfied: future in /usr/local/lib/python3.9/dist-packages (from eden-kernel<0.4.0,>=0.3.1348->pyrfume) (0.18.3)\n",
            "Requirement already satisfied: joblib in /usr/local/lib/python3.9/dist-packages (from eden-kernel<0.4.0,>=0.3.1348->pyrfume) (1.1.1)\n",
            "Requirement already satisfied: toolz in /usr/local/lib/python3.9/dist-packages (from eden-kernel<0.4.0,>=0.3.1348->pyrfume) (0.12.0)\n",
            "Requirement already satisfied: debugpy>=1.6.5 in /usr/local/lib/python3.9/dist-packages (from ipykernel>=5.5.6->pyrfume) (1.6.6)\n",
            "Requirement already satisfied: jupyter-core!=5.0.*,>=4.12 in /usr/local/lib/python3.9/dist-packages (from ipykernel>=5.5.6->pyrfume) (5.3.0)\n",
            "Requirement already satisfied: tornado>=6.1 in /usr/local/lib/python3.9/dist-packages (from ipykernel>=5.5.6->pyrfume) (6.2)\n",
            "Collecting comm>=0.1.1\n",
            "  Downloading comm-0.1.3-py3-none-any.whl (6.6 kB)\n",
            "Requirement already satisfied: jupyter-client>=6.1.12 in /usr/local/lib/python3.9/dist-packages (from ipykernel>=5.5.6->pyrfume) (6.1.12)\n",
            "Requirement already satisfied: pyzmq>=20 in /usr/local/lib/python3.9/dist-packages (from ipykernel>=5.5.6->pyrfume) (23.2.1)\n",
            "Collecting nest-asyncio\n",
            "  Downloading nest_asyncio-1.5.6-py3-none-any.whl (5.2 kB)\n",
            "Collecting matplotlib-inline>=0.1\n",
            "  Downloading matplotlib_inline-0.1.6-py3-none-any.whl (9.4 kB)\n",
            "Collecting ipython\n",
            "  Downloading ipython-8.11.0-py3-none-any.whl (793 kB)\n",
            "\u001b[2K     \u001b[90m━━━━━━━━━━━━━━━━━━━━━━━━━━━━━━━━━━━━━━\u001b[0m \u001b[32m793.3/793.3 KB\u001b[0m \u001b[31m49.5 MB/s\u001b[0m eta \u001b[36m0:00:00\u001b[0m\n",
            "\u001b[?25hRequirement already satisfied: packaging in /usr/local/lib/python3.9/dist-packages (from ipykernel>=5.5.6->pyrfume) (23.0)\n",
            "Requirement already satisfied: psutil in /usr/local/lib/python3.9/dist-packages (from ipykernel>=5.5.6->pyrfume) (5.9.4)\n",
            "Requirement already satisfied: traitlets>=5.4.0 in /usr/local/lib/python3.9/dist-packages (from ipykernel>=5.5.6->pyrfume) (5.7.1)\n",
            "Requirement already satisfied: six==1.* in /usr/local/lib/python3.9/dist-packages (from mordred<2.0.0,>=1.2.0->pyrfume) (1.16.0)\n",
            "Requirement already satisfied: python-dateutil>=2.8.1 in /usr/local/lib/python3.9/dist-packages (from pandas>=1.4->pyrfume) (2.8.2)\n",
            "Requirement already satisfied: pytz>=2020.1 in /usr/local/lib/python3.9/dist-packages (from pandas>=1.4->pyrfume) (2022.7.1)\n",
            "Requirement already satisfied: tenacity>=6.2.0 in /usr/local/lib/python3.9/dist-packages (from plotly<6.0.0,>=5.9.0->pyrfume) (8.2.2)\n",
            "Requirement already satisfied: Pillow in /usr/local/lib/python3.9/dist-packages (from rdkit-pypi<2023.0.0,>=2022.3.4->pyrfume) (8.4.0)\n",
            "Requirement already satisfied: certifi>=2017.4.17 in /usr/local/lib/python3.9/dist-packages (from requests>=2.20.0->pyrfume) (2022.12.7)\n",
            "Requirement already satisfied: charset-normalizer~=2.0.0 in /usr/local/lib/python3.9/dist-packages (from requests>=2.20.0->pyrfume) (2.0.12)\n",
            "Requirement already satisfied: idna<4,>=2.5 in /usr/local/lib/python3.9/dist-packages (from requests>=2.20.0->pyrfume) (3.4)\n",
            "Requirement already satisfied: threadpoolctl>=2.0.0 in /usr/local/lib/python3.9/dist-packages (from scikit-learn>=0.23.1->pyrfume) (3.1.0)\n",
            "Requirement already satisfied: mpmath>=0.19 in /usr/local/lib/python3.9/dist-packages (from sympy>=1.6->pyrfume) (1.3.0)\n",
            "Collecting stack-data\n",
            "  Downloading stack_data-0.6.2-py3-none-any.whl (24 kB)\n",
            "Collecting jedi>=0.16\n",
            "  Downloading jedi-0.18.2-py2.py3-none-any.whl (1.6 MB)\n",
            "\u001b[2K     \u001b[90m━━━━━━━━━━━━━━━━━━━━━━━━━━━━━━━━━━━━━━━━\u001b[0m \u001b[32m1.6/1.6 MB\u001b[0m \u001b[31m50.9 MB/s\u001b[0m eta \u001b[36m0:00:00\u001b[0m\n",
            "\u001b[?25hCollecting prompt-toolkit!=3.0.37,<3.1.0,>=3.0.30\n",
            "  Downloading prompt_toolkit-3.0.38-py3-none-any.whl (385 kB)\n",
            "\u001b[2K     \u001b[90m━━━━━━━━━━━━━━━━━━━━━━━━━━━━━━━━━━━━━━\u001b[0m \u001b[32m385.8/385.8 KB\u001b[0m \u001b[31m33.3 MB/s\u001b[0m eta \u001b[36m0:00:00\u001b[0m\n",
            "\u001b[?25hRequirement already satisfied: backcall in /usr/local/lib/python3.9/dist-packages (from ipython->datajoint>0.12->pyrfume) (0.2.0)\n",
            "Requirement already satisfied: decorator in /usr/local/lib/python3.9/dist-packages (from ipython->datajoint>0.12->pyrfume) (4.4.2)\n",
            "Requirement already satisfied: pickleshare in /usr/local/lib/python3.9/dist-packages (from ipython->datajoint>0.12->pyrfume) (0.7.5)\n",
            "Requirement already satisfied: pexpect>4.3 in /usr/local/lib/python3.9/dist-packages (from ipython->datajoint>0.12->pyrfume) (4.8.0)\n",
            "Requirement already satisfied: pygments>=2.4.0 in /usr/local/lib/python3.9/dist-packages (from ipython->datajoint>0.12->pyrfume) (2.6.1)\n",
            "Requirement already satisfied: platformdirs>=2.5 in /usr/local/lib/python3.9/dist-packages (from jupyter-core!=5.0.*,>=4.12->ipykernel>=5.5.6->pyrfume) (3.1.1)\n",
            "Requirement already satisfied: cffi>=1.12 in /usr/local/lib/python3.9/dist-packages (from cryptography->datajoint>0.12->pyrfume) (1.15.1)\n",
            "Requirement already satisfied: kiwisolver>=1.0.1 in /usr/local/lib/python3.9/dist-packages (from matplotlib->datajoint>0.12->pyrfume) (1.4.4)\n",
            "Requirement already satisfied: cycler>=0.10 in /usr/local/lib/python3.9/dist-packages (from matplotlib->datajoint>0.12->pyrfume) (0.11.0)\n",
            "Requirement already satisfied: contourpy>=1.0.1 in /usr/local/lib/python3.9/dist-packages (from matplotlib->datajoint>0.12->pyrfume) (1.0.7)\n",
            "Requirement already satisfied: importlib-resources>=3.2.0 in /usr/local/lib/python3.9/dist-packages (from matplotlib->datajoint>0.12->pyrfume) (5.12.0)\n",
            "Requirement already satisfied: fonttools>=4.22.0 in /usr/local/lib/python3.9/dist-packages (from matplotlib->datajoint>0.12->pyrfume) (4.39.2)\n",
            "Collecting watchdog\n",
            "  Downloading watchdog-3.0.0-py3-none-manylinux2014_x86_64.whl (82 kB)\n",
            "\u001b[2K     \u001b[90m━━━━━━━━━━━━━━━━━━━━━━━━━━━━━━━━━━━━━━━━\u001b[0m \u001b[32m82.1/82.1 KB\u001b[0m \u001b[31m8.2 MB/s\u001b[0m eta \u001b[36m0:00:00\u001b[0m\n",
            "\u001b[?25hRequirement already satisfied: appdirs in /usr/local/lib/python3.9/dist-packages (from otumat->datajoint>0.12->pyrfume) (1.4.4)\n",
            "Requirement already satisfied: flask in /usr/local/lib/python3.9/dist-packages (from otumat->datajoint>0.12->pyrfume) (2.2.3)\n",
            "Requirement already satisfied: pycparser in /usr/local/lib/python3.9/dist-packages (from cffi>=1.12->cryptography->datajoint>0.12->pyrfume) (2.21)\n",
            "Requirement already satisfied: zipp>=3.1.0 in /usr/local/lib/python3.9/dist-packages (from importlib-resources>=3.2.0->matplotlib->datajoint>0.12->pyrfume) (3.15.0)\n",
            "Requirement already satisfied: parso<0.9.0,>=0.8.0 in /usr/local/lib/python3.9/dist-packages (from jedi>=0.16->ipython->datajoint>0.12->pyrfume) (0.8.3)\n",
            "Requirement already satisfied: ptyprocess>=0.5 in /usr/local/lib/python3.9/dist-packages (from pexpect>4.3->ipython->datajoint>0.12->pyrfume) (0.7.0)\n",
            "Requirement already satisfied: wcwidth in /usr/local/lib/python3.9/dist-packages (from prompt-toolkit!=3.0.37,<3.1.0,>=3.0.30->ipython->datajoint>0.12->pyrfume) (0.2.6)\n",
            "Requirement already satisfied: click>=8.0 in /usr/local/lib/python3.9/dist-packages (from flask->otumat->datajoint>0.12->pyrfume) (8.1.3)\n",
            "Requirement already satisfied: importlib-metadata>=3.6.0 in /usr/local/lib/python3.9/dist-packages (from flask->otumat->datajoint>0.12->pyrfume) (6.1.0)\n",
            "Requirement already satisfied: Werkzeug>=2.2.2 in /usr/local/lib/python3.9/dist-packages (from flask->otumat->datajoint>0.12->pyrfume) (2.2.3)\n",
            "Requirement already satisfied: itsdangerous>=2.0 in /usr/local/lib/python3.9/dist-packages (from flask->otumat->datajoint>0.12->pyrfume) (2.1.2)\n",
            "Requirement already satisfied: Jinja2>=3.0 in /usr/local/lib/python3.9/dist-packages (from flask->otumat->datajoint>0.12->pyrfume) (3.1.2)\n",
            "Collecting pure-eval\n",
            "  Downloading pure_eval-0.2.2-py3-none-any.whl (11 kB)\n",
            "Collecting asttokens>=2.1.0\n",
            "  Downloading asttokens-2.2.1-py2.py3-none-any.whl (26 kB)\n",
            "Collecting executing>=1.2.0\n",
            "  Downloading executing-1.2.0-py2.py3-none-any.whl (24 kB)\n",
            "Requirement already satisfied: MarkupSafe>=2.0 in /usr/local/lib/python3.9/dist-packages (from Jinja2>=3.0->flask->otumat->datajoint>0.12->pyrfume) (2.1.2)\n",
            "Building wheels for collected packages: eden-kernel, mordred, PubChemPy, quantities\n",
            "  Building wheel for eden-kernel (setup.py) ... \u001b[?25l\u001b[?25hdone\n",
            "  Created wheel for eden-kernel: filename=eden_kernel-0.3.1348-py3-none-any.whl size=48726 sha256=fb050abeaf2d52573af1b7c73aa0f76e192cf667fc74820dd57fe8eef91aee9e\n",
            "  Stored in directory: /root/.cache/pip/wheels/67/9c/3a/8c2685abae61dad7d1e7ad3675f6cd07735fa915f5ad15b7a7\n",
            "  Building wheel for mordred (setup.py) ... \u001b[?25l\u001b[?25hdone\n",
            "  Created wheel for mordred: filename=mordred-1.2.0-py3-none-any.whl size=176723 sha256=fb804bdf20a03b4d392b07c78353b4221e8b7d59c26a8a72874b2e013b38890d\n",
            "  Stored in directory: /root/.cache/pip/wheels/05/95/d1/9e913738f0e8362b3676917b953a60afd76d2b0b99ff8a71ec\n",
            "  Building wheel for PubChemPy (setup.py) ... \u001b[?25l\u001b[?25hdone\n",
            "  Created wheel for PubChemPy: filename=PubChemPy-1.0.4-py3-none-any.whl size=13837 sha256=cf1e4ca87fe74d3c68aea9c5290c24b8d5386dff11bd656fe8d1e428b6debe93\n",
            "  Stored in directory: /root/.cache/pip/wheels/84/45/0e/b597debba098119b642eaf728ae1883d23ad8ea2a9366f2ded\n",
            "  Building wheel for quantities (setup.py) ... \u001b[?25l\u001b[?25hdone\n",
            "  Created wheel for quantities: filename=quantities-0.13.0-py3-none-any.whl size=77858 sha256=9916453f43fd9e107923e26d120818170d50596762089f3f3f2383efc5d6d6e0\n",
            "  Stored in directory: /root/.cache/pip/wheels/d0/1a/5c/88421474c391db38a8921d98dcd788d9b33a5e466dd902eb6b\n",
            "Successfully built eden-kernel mordred PubChemPy quantities\n",
            "Installing collected packages: quantities, pure-eval, PubChemPy, executing, watchdog, rdkit-pypi, pymysql, prompt-toolkit, networkx, nest-asyncio, minio, matplotlib-inline, jedi, dill, comm, asttokens, stack-data, mordred, cryptography, otumat, ipython, eden-kernel, ipykernel, datajoint, pyrfume\n",
            "  Attempting uninstall: prompt-toolkit\n",
            "    Found existing installation: prompt-toolkit 2.0.10\n",
            "    Uninstalling prompt-toolkit-2.0.10:\n",
            "      Successfully uninstalled prompt-toolkit-2.0.10\n",
            "  Attempting uninstall: networkx\n",
            "    Found existing installation: networkx 3.0\n",
            "    Uninstalling networkx-3.0:\n",
            "      Successfully uninstalled networkx-3.0\n",
            "  Attempting uninstall: ipython\n",
            "    Found existing installation: ipython 7.9.0\n",
            "    Uninstalling ipython-7.9.0:\n",
            "      Successfully uninstalled ipython-7.9.0\n",
            "  Attempting uninstall: ipykernel\n",
            "    Found existing installation: ipykernel 5.3.4\n",
            "    Uninstalling ipykernel-5.3.4:\n",
            "      Successfully uninstalled ipykernel-5.3.4\n",
            "\u001b[31mERROR: pip's dependency resolver does not currently take into account all the packages that are installed. This behaviour is the source of the following dependency conflicts.\n",
            "google-colab 1.0.0 requires ipykernel~=5.3.4, but you have ipykernel 6.22.0 which is incompatible.\n",
            "google-colab 1.0.0 requires ipython~=7.9.0, but you have ipython 8.11.0 which is incompatible.\u001b[0m\u001b[31m\n",
            "\u001b[0mSuccessfully installed PubChemPy-1.0.4 asttokens-2.2.1 comm-0.1.3 cryptography-39.0.2 datajoint-0.14.0 dill-0.3.6 eden-kernel-0.3.1348 executing-1.2.0 ipykernel-6.22.0 ipython-8.11.0 jedi-0.18.2 matplotlib-inline-0.1.6 minio-7.1.13 mordred-1.2.0 nest-asyncio-1.5.6 networkx-2.6.3 otumat-0.3.1 prompt-toolkit-3.0.38 pure-eval-0.2.2 pymysql-1.0.2 pyrfume-0.18.4 quantities-0.13.0 rdkit-pypi-2022.9.5 stack-data-0.6.2 watchdog-3.0.0\n",
            "Looking in indexes: https://pypi.org/simple, https://us-python.pkg.dev/colab-wheels/public/simple/\n",
            "Collecting torch-ema\n",
            "  Downloading torch_ema-0.3-py3-none-any.whl (5.5 kB)\n",
            "Requirement already satisfied: torch in /usr/local/lib/python3.9/dist-packages (from torch-ema) (1.13.1+cu116)\n",
            "Requirement already satisfied: typing-extensions in /usr/local/lib/python3.9/dist-packages (from torch->torch-ema) (4.5.0)\n",
            "Installing collected packages: torch-ema\n",
            "Successfully installed torch-ema-0.3\n"
          ]
        }
      ],
      "source": [
        "import torch\n",
        "print(\"PyTorch has version {}\".format(torch.__version__))\n",
        "\n",
        "!pip install torch-scatter -f https://pytorch-geometric.com/whl/torch-1.13.1+cu116.html\n",
        "!pip install torch-sparse -f https://pytorch-geometric.com/whl/torch-1.13.1+cu116.html\n",
        "!pip install git+https://github.com/pyg-team/pytorch_geometric.git\n",
        "!pip install pyrfume\n",
        "!pip install torch-ema"
      ]
    },
    {
      "cell_type": "markdown",
      "metadata": {
        "id": "32PrLqs1-Pjs"
      },
      "source": [
        "Load files with helpful modules from GitHub"
      ]
    },
    {
      "cell_type": "code",
      "execution_count": 3,
      "metadata": {
        "colab": {
          "base_uri": "https://localhost:8080/"
        },
        "id": "P-CbNA7vHCkr",
        "outputId": "9633697f-6660-4103-d9e8-acc0621056d3"
      },
      "outputs": [
        {
          "output_type": "stream",
          "name": "stdout",
          "text": [
            "Cloning into 'GraphSSL'...\n",
            "remote: Enumerating objects: 187, done.\u001b[K\n",
            "Receiving objects:   0% (1/187)\rReceiving objects:   1% (2/187)\rReceiving objects:   2% (4/187)\rReceiving objects:   3% (6/187)\rReceiving objects:   4% (8/187)\rReceiving objects:   5% (10/187)\rReceiving objects:   6% (12/187)\rReceiving objects:   7% (14/187)\rReceiving objects:   8% (15/187)\rReceiving objects:   9% (17/187)\rReceiving objects:  10% (19/187)\rReceiving objects:  11% (21/187)\rReceiving objects:  12% (23/187)\rReceiving objects:  13% (25/187)\rReceiving objects:  14% (27/187)\rReceiving objects:  15% (29/187)\rReceiving objects:  16% (30/187)\rReceiving objects:  17% (32/187)\rReceiving objects:  18% (34/187)\rReceiving objects:  19% (36/187)\rReceiving objects:  20% (38/187)\rReceiving objects:  21% (40/187)\rReceiving objects:  22% (42/187)\rReceiving objects:  23% (44/187)\rReceiving objects:  24% (45/187)\rReceiving objects:  25% (47/187)\rReceiving objects:  26% (49/187)\rReceiving objects:  27% (51/187)\rReceiving objects:  28% (53/187)\rReceiving objects:  29% (55/187)\rReceiving objects:  30% (57/187)\rReceiving objects:  31% (58/187)\rReceiving objects:  32% (60/187)\rReceiving objects:  33% (62/187)\rReceiving objects:  34% (64/187)\rReceiving objects:  35% (66/187)\rReceiving objects:  36% (68/187)\rReceiving objects:  37% (70/187)\rremote: Total 187 (delta 0), reused 0 (delta 0), pack-reused 187\u001b[K\n",
            "Receiving objects:  38% (72/187)\rReceiving objects:  39% (73/187)\rReceiving objects:  40% (75/187)\rReceiving objects:  41% (77/187)\rReceiving objects:  42% (79/187)\rReceiving objects:  43% (81/187)\rReceiving objects:  44% (83/187)\rReceiving objects:  45% (85/187)\rReceiving objects:  46% (87/187)\rReceiving objects:  47% (88/187)\rReceiving objects:  48% (90/187)\rReceiving objects:  49% (92/187)\rReceiving objects:  50% (94/187)\rReceiving objects:  51% (96/187)\rReceiving objects:  52% (98/187)\rReceiving objects:  53% (100/187)\rReceiving objects:  54% (101/187)\rReceiving objects:  55% (103/187)\rReceiving objects:  56% (105/187)\rReceiving objects:  57% (107/187)\rReceiving objects:  58% (109/187)\rReceiving objects:  59% (111/187)\rReceiving objects:  60% (113/187)\rReceiving objects:  61% (115/187)\rReceiving objects:  62% (116/187)\rReceiving objects:  63% (118/187)\rReceiving objects:  64% (120/187)\rReceiving objects:  65% (122/187)\rReceiving objects:  66% (124/187)\rReceiving objects:  67% (126/187)\rReceiving objects:  68% (128/187)\rReceiving objects:  69% (130/187)\rReceiving objects:  70% (131/187)\rReceiving objects:  71% (133/187)\rReceiving objects:  72% (135/187)\rReceiving objects:  73% (137/187)\rReceiving objects:  74% (139/187)\rReceiving objects:  75% (141/187)\rReceiving objects:  76% (143/187)\rReceiving objects:  77% (144/187)\rReceiving objects:  78% (146/187)\rReceiving objects:  79% (148/187)\rReceiving objects:  80% (150/187)\rReceiving objects:  81% (152/187)\rReceiving objects:  82% (154/187)\rReceiving objects:  83% (156/187)\rReceiving objects:  84% (158/187)\rReceiving objects:  85% (159/187)\rReceiving objects:  86% (161/187)\rReceiving objects:  87% (163/187)\rReceiving objects:  88% (165/187)\rReceiving objects:  89% (167/187)\rReceiving objects:  90% (169/187)\rReceiving objects:  91% (171/187)\rReceiving objects:  92% (173/187)\rReceiving objects:  93% (174/187)\rReceiving objects:  94% (176/187)\rReceiving objects:  95% (178/187)\rReceiving objects:  96% (180/187)\rReceiving objects:  97% (182/187)\rReceiving objects:  98% (184/187)\rReceiving objects:  99% (186/187)\rReceiving objects: 100% (187/187)\rReceiving objects: 100% (187/187), 54.62 KiB | 1.11 MiB/s, done.\n",
            "Resolving deltas: 100% (112/112), done.\n",
            "Cloning into 'cs224w-project'...\n",
            "remote: Enumerating objects: 143, done.\u001b[K\n",
            "remote: Counting objects: 100% (143/143), done.\u001b[K\n",
            "remote: Compressing objects: 100% (114/114), done.\u001b[K\n",
            "remote: Total 143 (delta 80), reused 70 (delta 28), pack-reused 0\u001b[K\n",
            "Receiving objects: 100% (143/143), 153.93 KiB | 2.85 MiB/s, done.\n",
            "Resolving deltas: 100% (80/80), done.\n"
          ]
        }
      ],
      "source": [
        "!git clone https://github.com/paridhimaheshwari2708/GraphSSL.git\n",
        "!git clone https://github.com/mattyding/cs224w-project.git\n"
      ]
    },
    {
      "cell_type": "code",
      "execution_count": 4,
      "metadata": {
        "colab": {
          "base_uri": "https://localhost:8080/",
          "height": 35
        },
        "id": "KbhzxZzYe9h9",
        "outputId": "6e26592b-a54f-4601-9d4d-3872ca7658dc"
      },
      "outputs": [
        {
          "output_type": "execute_result",
          "data": {
            "text/plain": [
              "'2.3.0'"
            ],
            "application/vnd.google.colaboratory.intrinsic+json": {
              "type": "string"
            }
          },
          "metadata": {},
          "execution_count": 4
        }
      ],
      "source": [
        "import torch_geometric\n",
        "torch_geometric.__version__"
      ]
    },
    {
      "cell_type": "code",
      "execution_count": 5,
      "metadata": {
        "id": "LpAD2TOxe-6t"
      },
      "outputs": [],
      "source": [
        "import numpy as np\n",
        "\n",
        "from torch_geometric.loader import DataLoader\n",
        "\n",
        "import matplotlib.pyplot as plt \n",
        "from sklearn.metrics import f1_score, roc_auc_score\n",
        "from tqdm import tqdm\n",
        "\n",
        "\n",
        "import sys\n",
        "sys.path.append('/content/cs224w-project/GNNose')\n",
        "sys.path.append(\"/content/GraphSSL/\")\n",
        "\n",
        "\n",
        "device = torch.device('cuda' if torch.cuda.is_available() else 'cpu')"
      ]
    },
    {
      "cell_type": "markdown",
      "metadata": {
        "id": "Ylewj4CO-LTu"
      },
      "source": [
        "Set random seeds so that results can be reproduced. Note PyG has an [issue with reproducibility](https://github.com/pyg-team/pytorch_geometric/issues/92) when using GPUs."
      ]
    },
    {
      "cell_type": "code",
      "execution_count": 6,
      "metadata": {
        "id": "j0mI-AW5-HWV"
      },
      "outputs": [],
      "source": [
        "seed = 12345\n",
        "\n",
        "torch_geometric.seed.seed_everything(seed)"
      ]
    },
    {
      "cell_type": "markdown",
      "metadata": {
        "id": "YxGO2M718QfJ"
      },
      "source": [
        "### Load the Leffingwell odor dataset\n",
        "\n",
        "Within `get_graph_data`, we add initial node features calculated by using atom features and pooling features from adjacent edges."
      ]
    },
    {
      "cell_type": "code",
      "execution_count": 7,
      "metadata": {
        "id": "jh4Aa-kxfK2R"
      },
      "outputs": [],
      "source": [
        "# load and split the dataset \n",
        "from odor_data import get_graph_data\n",
        "\n",
        "graph_list = get_graph_data('lw') # 'ol' for Dream Olfaction dataset"
      ]
    },
    {
      "cell_type": "markdown",
      "metadata": {
        "id": "pkEbbc4i-s4Q"
      },
      "source": [
        "Observe an example graph in PyG format:"
      ]
    },
    {
      "cell_type": "code",
      "execution_count": 8,
      "metadata": {
        "colab": {
          "base_uri": "https://localhost:8080/",
          "height": 248
        },
        "id": "YwERF0hJENk7",
        "outputId": "0cd60401-36c6-4f09-8868-8186ec8cabe9"
      },
      "outputs": [
        {
          "output_type": "display_data",
          "data": {
            "text/plain": [
              "<Figure size 432x288 with 1 Axes>"
            ],
            "image/png": "[encoded data removed]"
          },
          "metadata": {}
        }
      ],
      "source": [
        "from plot_utils import nx_draw_molecule\n",
        "nx_draw_molecule(graph_list[0].x, graph_list[0].edge_index)"
      ]
    },
    {
      "cell_type": "markdown",
      "metadata": {
        "id": "xcbKHCFX-vQx"
      },
      "source": [
        "We use a 70%, 10%, 20% train-val-test split"
      ]
    },
    {
      "cell_type": "code",
      "execution_count": 9,
      "metadata": {
        "id": "PKrxb8c--r5f"
      },
      "outputs": [],
      "source": [
        "train_set, val_set, test_set = torch.utils.data.random_split(graph_list, [0.7, 0.1, 0.2])\n",
        "\n",
        "batch_size = 64\n",
        "\n",
        "train_loader = DataLoader(train_set, batch_size=batch_size, shuffle=True, drop_last=True)\n",
        "val_loader = DataLoader(val_set, batch_size=batch_size, shuffle=True, drop_last=True)\n",
        "test_loader = DataLoader(test_set, batch_size=batch_size, shuffle=True, drop_last=True)"
      ]
    },
    {
      "cell_type": "markdown",
      "metadata": {
        "id": "xlMssuS9__Tz"
      },
      "source": [
        "### Choose model architecture hyperparameters"
      ]
    },
    {
      "cell_type": "code",
      "execution_count": 10,
      "metadata": {
        "id": "2OhAjb1HABI1"
      },
      "outputs": [],
      "source": [
        "hidden_channels = 64\n",
        "num_layers = 1\n",
        "dropout_p = 0\n",
        "pooling_type = 'max'"
      ]
    },
    {
      "cell_type": "markdown",
      "metadata": {
        "id": "ssHoeZgW8WNA"
      },
      "source": [
        "### Load the model\n",
        "\n",
        "We define the `ScentClassifier` model in `odor_model`, which is a GIN with a max-pooling layer and classifier head."
      ]
    },
    {
      "cell_type": "code",
      "execution_count": 11,
      "metadata": {
        "id": "q3V2W4U0gv5N"
      },
      "outputs": [],
      "source": [
        "# set hyperparameters\n",
        "in_channels = list(graph_list[2].x.shape)[-1]\n",
        "out_channels = 1 "
      ]
    },
    {
      "cell_type": "markdown",
      "metadata": {
        "id": "y9DNWRz98XVD"
      },
      "source": [
        "### Apply pretraining"
      ]
    },
    {
      "cell_type": "code",
      "execution_count": 12,
      "metadata": {
        "id": "wHGxsFNr_mcK"
      },
      "outputs": [],
      "source": [
        "from plot_utils import plot_losses, plot_loss"
      ]
    },
    {
      "cell_type": "code",
      "execution_count": 13,
      "metadata": {
        "id": "W67x5uz0MTzD"
      },
      "outputs": [],
      "source": [
        "if use_pretraining:\n",
        "    from odor_pretrain import build_pretraining_loader, pretrain\n",
        "    from odor_model import PretrainingGIN\n",
        "    \n",
        "    pretrain_epochs = 30\n",
        "    # pretrain_batch_size = 256\n",
        "    pretrain_lr = 1e-3\n",
        "    pretrain_weight_decay = 1e-5\n",
        "\n",
        "    # We apply this approach using the GraphSSL GitHub repository.\n",
        "    pretrain_train_loader = build_pretraining_loader(train_set, \"train\", batch_size=batch_size)\n",
        "    pretrain_val_loader = build_pretraining_loader(val_set, \"val\", batch_size=batch_size)\n"
      ]
    },
    {
      "cell_type": "code",
      "execution_count": 14,
      "metadata": {
        "id": "lYC4ejMVfW7k"
      },
      "outputs": [],
      "source": [
        "# apply pretraining \n",
        "if use_pretraining:\n",
        "    pretrain_model = PretrainingGIN(\n",
        "        in_channels, \n",
        "        hidden_channels, \n",
        "        num_layers, \n",
        "        out_channels,\n",
        "        dropout=dropout_p\n",
        "    ).to(device)\n",
        "\n",
        "    pretrain_optimizer = torch.optim.Adam(pretrain_model.parameters(), lr=pretrain_lr, weight_decay=pretrain_weight_decay)\n",
        "\n",
        "    val_losses = []\n",
        "    train_losses = []\n",
        "    for epoch in (range(pretrain_epochs)):\n",
        "        train_loss = pretrain(pretrain_model, pretrain_optimizer, epoch, \"train\", pretrain_train_loader, device)\n",
        "        val_loss = pretrain(pretrain_model, pretrain_optimizer, epoch, \"val\", pretrain_val_loader, device)\n",
        "        log = \"Epoch {}, Train Loss: {:.3f}, Val Loss: {:.3f}\"\n",
        "        print(log.format(epoch, train_loss, val_loss))\n",
        "\n",
        "        train_losses.append(train_loss)\n",
        "        val_losses.append(val_loss)\n",
        "    \n",
        "    plot_losses(train_losses, val_losses, \"pretraining loss\")"
      ]
    },
    {
      "cell_type": "markdown",
      "metadata": {
        "id": "e66m8PYO8ZNY"
      },
      "source": [
        "### Fine-tune on labeled data"
      ]
    },
    {
      "cell_type": "code",
      "execution_count": 15,
      "metadata": {
        "id": "NpSgYuaJDbo0"
      },
      "outputs": [],
      "source": [
        "num_epochs = 50\n",
        "lr = 1e-4\n",
        "weight_decay = 1e-6"
      ]
    },
    {
      "cell_type": "code",
      "execution_count": 16,
      "metadata": {
        "id": "LQhDs75K_yf2"
      },
      "outputs": [],
      "source": [
        "# initialize model and finetune \n",
        "from odor_model import ScentClassifier\n",
        "from odor_train import train, test\n",
        "from torch_ema import ExponentialMovingAverage\n",
        "\n",
        "def run_finetuning(model, device, num_epochs, lr, weight_decay):\n",
        "    \"\"\"Train or finetune the given model using the train/val sets\"\"\"\n",
        "\n",
        "    optimizer = torch.optim.Adam(model.parameters(), lr=lr, weight_decay=weight_decay)\n",
        "    ema = ExponentialMovingAverage(model.parameters(), decay=0.995)\n",
        "\n",
        "    # track metrics\n",
        "    roc_scores, f1_scores, accs, losses, val_losses = [], [], [], [], []\n",
        "\n",
        "    for epoch in tqdm(range(num_epochs)):\n",
        "        loss = train(model, optimizer, train_loader, 'train', device, weighted_BCE=True, ema=ema)\n",
        "        val_loss = train(model, optimizer, val_loader, 'val', device, weighted_BCE=True)\n",
        "        train_acc, train_preds, train_true  = test(model, train_loader, device)\n",
        "        test_acc, test_preds, test_true = test(model, val_loader, device)\n",
        "\n",
        "        # calculate bootstrapped ROC AUC score over entire val set\n",
        "        _, whole_val_preds, whole_val_true = test(\n",
        "            model, DataLoader(val_set, batch_size=len(val_set), shuffle=True), device)\n",
        "        whole_val_preds = whole_val_preds.squeeze()\n",
        "        whole_val_true = whole_val_true.squeeze()\n",
        "        rocauc_score = roc_auc_score(whole_val_true.cpu(), whole_val_preds.cpu())\n",
        "        f1 = f1_score(whole_val_true.cpu(), whole_val_preds.cpu())\n",
        "\n",
        "        # track metrics\n",
        "        roc_scores.append(rocauc_score)\n",
        "        f1_scores.append(f1)\n",
        "        accs.append(test_acc)\n",
        "        losses.append(loss)\n",
        "        val_losses.append(val_loss)\n",
        "\n",
        "    best_f1_score = max(f1_scores)\n",
        "    best_f1_epoch = f1_scores.index(best_f1_score)\n",
        "    best_auc_score = max(roc_scores)\n",
        "    best_auc_epoch = roc_scores.index(best_auc_score)\n",
        "\n",
        "    plot_losses(losses, val_losses, title='finetuning: train vs. val loss')\n",
        "    fig, ax = plt.subplots(1, 2, figsize=(6, 2))\n",
        "    for i, (name, metric) in enumerate([\n",
        "        ('f1', f1_scores), ('roc', roc_scores)\n",
        "    ]):\n",
        "        ax[i].plot(range(len(metric)), metric)\n",
        "        ax[i].set_ylim((0, 1))\n",
        "        ax[i].set_title(name)\n",
        "    plt.show()\n",
        "    \n",
        "    return best_f1_score, best_f1_epoch, best_auc_score, best_auc_epoch\n"
      ]
    },
    {
      "cell_type": "code",
      "execution_count": 17,
      "metadata": {
        "colab": {
          "base_uri": "https://localhost:8080/",
          "height": 1000
        },
        "id": "3MaqdNO1otsO",
        "outputId": "17429bcd-4a65-4d38-8404-44d6f87b49d0"
      },
      "outputs": [
        {
          "output_type": "stream",
          "name": "stderr",
          "text": [
            "100%|██████████| 50/50 [00:48<00:00,  1.04it/s]\n"
          ]
        },
        {
          "output_type": "display_data",
          "data": {
            "text/plain": [
              "<Figure size 432x288 with 1 Axes>"
            ],
            "image/png": "[encoded data removed]"
          },
          "metadata": {
            "needs_background": "light"
          }
        },
        {
          "output_type": "display_data",
          "data": {
            "text/plain": [
              "<Figure size 432x144 with 2 Axes>"
            ],
            "image/png": "[encoded data removed]"
          },
          "metadata": {
            "needs_background": "light"
          }
        },
        {
          "output_type": "stream",
          "name": "stderr",
          "text": [
            "100%|██████████| 50/50 [00:48<00:00,  1.04it/s]\n"
          ]
        },
        {
          "output_type": "display_data",
          "data": {
            "text/plain": [
              "<Figure size 432x288 with 1 Axes>"
            ],
            "image/png": "[encoded data removed]"
          },
          "metadata": {
            "needs_background": "light"
          }
        },
        {
          "output_type": "display_data",
          "data": {
            "text/plain": [
              "<Figure size 432x144 with 2 Axes>"
            ],
            "image/png": "[encoded data removed]"
          },
          "metadata": {
            "needs_background": "light"
          }
        },
        {
          "output_type": "stream",
          "name": "stderr",
          "text": [
            "100%|██████████| 50/50 [00:46<00:00,  1.07it/s]\n"
          ]
        },
        {
          "output_type": "display_data",
          "data": {
            "text/plain": [
              "<Figure size 432x288 with 1 Axes>"
            ],
            "image/png": "[encoded data removed]"
          },
          "metadata": {
            "needs_background": "light"
          }
        },
        {
          "output_type": "display_data",
          "data": {
            "text/plain": [
              "<Figure size 432x144 with 2 Axes>"
            ],
            "image/png": "[encoded data removed]"
          },
          "metadata": {
            "needs_background": "light"
          }
        }
      ],
      "source": [
        "num_trials = 3\n",
        "dropout_p = 0\n",
        "trial_results = []\n",
        "\n",
        "for t in range(num_trials):\n",
        "    model = ScentClassifier(\n",
        "        in_channels,\n",
        "        hidden_channels, \n",
        "        num_layers, \n",
        "        out_channels,\n",
        "        dropout=dropout_p,\n",
        "        pooling_type=pooling_type,\n",
        "    )\n",
        "    model = model.to(device)\n",
        "\n",
        "    if use_pretraining:\n",
        "        model.gnn.load_state_dict(\n",
        "            pretrain_model.gnn.state_dict()\n",
        "        )\n",
        "\n",
        "    best_f1_score, best_f1_epoch, best_auc_score, best_auc_epoch = run_finetuning(model, device, num_epochs, lr, weight_decay)\n",
        "    trial_results.append((best_f1_score, best_f1_epoch, best_auc_score, best_auc_epoch))"
      ]
    },
    {
      "cell_type": "code",
      "execution_count": 18,
      "metadata": {
        "colab": {
          "base_uri": "https://localhost:8080/"
        },
        "id": "GMe-4mUZvtSd",
        "outputId": "dddd4163-4f0d-40d0-da16-241838882839"
      },
      "outputs": [
        {
          "output_type": "execute_result",
          "data": {
            "text/plain": [
              "[(0.20689655172413793, 49, 0.7267540152155536, 49),\n",
              " (0.2622950819672131, 37, 0.7527472527472526, 49),\n",
              " (0.23880597014925373, 43, 0.7523245984784446, 25)]"
            ]
          },
          "metadata": {},
          "execution_count": 18
        }
      ],
      "source": [
        "trial_results"
      ]
    },
    {
      "cell_type": "markdown",
      "metadata": {
        "id": "vj5IRcsvBRp1"
      },
      "source": [
        "### Hyperparameter tuning (optional)\n",
        "\n",
        "We can also perform a gridsearch to find optimal values for various hyperparameters."
      ]
    },
    {
      "cell_type": "code",
      "execution_count": 19,
      "metadata": {
        "id": "NAxBYogjHWkt"
      },
      "outputs": [],
      "source": [
        "hyperparam_tuning = False"
      ]
    },
    {
      "cell_type": "code",
      "execution_count": 20,
      "metadata": {
        "id": "eKACVvwLBS1a"
      },
      "outputs": [],
      "source": [
        "if hyperparam_tuning:\n",
        "    import itertools \n",
        "\n",
        "    param_search = {\n",
        "        \"lr\": [1e-2, 5e-3, 1e-3],\n",
        "        \"weight_decay\": [1e-5, 1e-6],\n",
        "    }\n",
        "\n",
        "    param_search_results = []\n",
        "\n",
        "    for lr, weight_decay in list(itertools.product(*list(param_search.values()))):\n",
        "        # create model\n",
        "        model = ScentClassifier(\n",
        "            in_channels,\n",
        "            hidden_channels, \n",
        "            num_layers, \n",
        "            out_channels,\n",
        "            dropout=dropout_p,\n",
        "            pooling_type=pooling_type,\n",
        "        )\n",
        "        model = model.to(device)\n",
        "\n",
        "        # load pretrained weights, if relevant\n",
        "        if use_pretraining:\n",
        "            model.gnn.load_state_dict(\n",
        "                pretrain_model.gnn.state_dict()\n",
        "            )\n",
        "\n",
        "        # train\n",
        "        best_f1_score, best_f1_epoch, best_auc_score, best_auc_epoch = run_finetuning(\n",
        "            model, device, num_epochs, lr, weight_decay)\n",
        "\n",
        "        param_search_results.append(\n",
        "            ((best_f1_score, best_f1_epoch, best_auc_score, best_auc_epoch), (lr, weight_decay))\n",
        "        )\n"
      ]
    },
    {
      "cell_type": "code",
      "execution_count": 21,
      "metadata": {
        "id": "LmjDBDPL1HWM"
      },
      "outputs": [],
      "source": [
        "if hyperparam_tuning:\n",
        "    # show best results, by F1 or AUC\n",
        "    param_search_results.sort(key = lambda x: x[0][0])\n",
        "    print(\"Best F1 score:\", param_search_results[-1][0][0])\n",
        "    print(\"Best F1 epoch:\", param_search_results[-1][0][1])\n",
        "    print(\n",
        "        \"Best F1 params:\", \n",
        "        dict(zip(\n",
        "            param_search.keys(),\n",
        "            param_search_results[-1][-1]        \n",
        "        ))\n",
        "    )\n",
        "\n",
        "    param_search_results.sort(key = lambda x: x[0][2])\n",
        "    print(\"Best AUC score:\", param_search_results[-1][0][2])\n",
        "    print(\"Best AUC epoch:\", param_search_results[-1][0][3])\n",
        "    print(\n",
        "        \"Best AUC params:\", \n",
        "        dict(zip(\n",
        "            param_search.keys(),\n",
        "            param_search_results[-1][-1]        \n",
        "        ))\n",
        "    )"
      ]
    },
    {
      "cell_type": "markdown",
      "metadata": {
        "id": "kZ5efl01YWVM"
      },
      "source": [
        "### Visualize model embeddings"
      ]
    },
    {
      "cell_type": "code",
      "execution_count": 22,
      "metadata": {
        "id": "65ZyRxykDi_i"
      },
      "outputs": [],
      "source": [
        "from sklearn.decomposition import PCA\n",
        "from sklearn.manifold import TSNE\n",
        "\n",
        "def plot_embeddings(model, graph_list, title=None, savepath=None):\n",
        "    \"\"\"Visualize model embeddings for graphs in graph_list via PCA and t-SNE.\"\"\"\n",
        "    # look just at GNN + pooling\n",
        "    emb_model = PretrainingGIN(\n",
        "        in_channels, \n",
        "        hidden_channels, \n",
        "        num_layers, \n",
        "        out_channels,\n",
        "        dropout=dropout_p\n",
        "    ).to(device)\n",
        "\n",
        "    if model is not None:\n",
        "        print('loading state dict')\n",
        "        emb_model.gnn.load_state_dict(\n",
        "            model.gnn.state_dict()\n",
        "        )\n",
        "\n",
        "    # generate embeddings\n",
        "    coords = []\n",
        "    labels = []\n",
        "    for graph_data in graph_list:\n",
        "        graph_data = graph_data.to(device)\n",
        "        readout = emb_model(graph_data.x, graph_data.edge_index, batch=torch.tensor([0]).to(device))\n",
        "        coords.append(readout.squeeze().cpu())\n",
        "        labels.append(graph_data.y.item())\n",
        "\n",
        "    X = torch.vstack(coords).detach().numpy()\n",
        "\n",
        "    pca = PCA(n_components=30)\n",
        "    X_pca = pca.fit_transform(X)\n",
        "\n",
        "    X_embedded = TSNE(n_components=2).fit_transform(X_pca)\n",
        "\n",
        "    labels = np.array(labels)\n",
        "\n",
        "    plt.scatter(X_embedded[(labels==0), 0], X_embedded[(labels==0), 1], c='red', s=0.2, label='not pungent')\n",
        "    plt.scatter(X_embedded[(labels==1), 0], X_embedded[(labels==1), 1], c='blue', s=0.2, label='pungent')\n",
        "    plt.legend()\n",
        "    # plt.scatter(X_embedded[:, 0], X_embedded[:, 1], c=['red' if x else 'blue' for x in labels], s=0.2)\n",
        "    if title:\n",
        "        plt.title(title)\n",
        "\n",
        "    if savepath:\n",
        "        plt.savefig(savepath, dpi=300)\n",
        "    plt.show()\n",
        "    # visualize "
      ]
    },
    {
      "cell_type": "code",
      "execution_count": 23,
      "metadata": {
        "id": "kcAY1AOoW5wI"
      },
      "outputs": [],
      "source": [
        "if use_pretraining:\n",
        "  plot_embeddings(None, graph_list, \n",
        "                  title='t-SNE embedding visualization: before training', \n",
        "                  savepath=None)\n",
        "  plot_embeddings(model, graph_list, \n",
        "                  title='t-SNE embedding visualization: after training',\n",
        "                  savepath=None)"
      ]
    },
    {
      "cell_type": "markdown",
      "metadata": {
        "id": "Cmgh6B2SG6M5"
      },
      "source": [
        "### Explainability: Feature Importance"
      ]
    },
    {
      "cell_type": "code",
      "execution_count": 24,
      "metadata": {
        "id": "lYK8-30aCm5C"
      },
      "outputs": [],
      "source": [
        "import random\n",
        "from rdkit import Chem\n",
        "\n",
        "from torch_geometric import explain\n",
        "from torch_geometric.explain import Explanation, Explainer, ModelConfig"
      ]
    },
    {
      "cell_type": "code",
      "execution_count": 25,
      "metadata": {
        "id": "9zoZIm02CuMZ"
      },
      "outputs": [],
      "source": [
        "# Explainer for node attributes\n",
        "# Node mask: individual atrributes (features)\n",
        "  # edge features are integrated into node freatures previously\n",
        "# Edge mask: for each edge object\n",
        "na_explainer = Explainer(\n",
        "    model, \n",
        "    algorithm=explain.algorithm.GNNExplainer(),\n",
        "    explanation_type=\"model\", \n",
        "    model_config=ModelConfig(mode=\"binary_classification\", task_level=\"graph\", return_type=\"probs\"),\n",
        "    node_mask_type=\"attributes\",\n",
        "    edge_mask_type=\"object\"\n",
        ")"
      ]
    },
    {
      "cell_type": "code",
      "execution_count": 26,
      "metadata": {
        "id": "w0ZEl0mkC0tH"
      },
      "outputs": [],
      "source": [
        "# get explanations on the test set\n",
        "all_na_explanations = []\n",
        "for graph_idx in range(len(test_set)):\n",
        "  data = test_set[graph_idx]\n",
        "  x, edge_index = data.x, data.edge_index\n",
        "  na_explanation = na_explainer(x.to(device), edge_index.to(device), batch=torch.tensor([0]).to(device))\n",
        "  all_na_explanations.append(na_explanation)"
      ]
    },
    {
      "cell_type": "code",
      "execution_count": 27,
      "metadata": {
        "id": "zSVWuQESC1Sb"
      },
      "outputs": [],
      "source": [
        "# Get the mean of node attribtute importance across all graphs\n",
        "NODE_FEATURE_NUM = 9\n",
        "na_importance = torch.mean(torch.stack([torch.mean(e.node_mask, axis=0) for e in all_na_explanations]), axis=0)"
      ]
    },
    {
      "cell_type": "code",
      "execution_count": 28,
      "metadata": {
        "colab": {
          "base_uri": "https://localhost:8080/",
          "height": 422
        },
        "id": "E-CH6wbLC31J",
        "outputId": "bdb9b55a-a95e-45e4-e8c5-3cb873d77cde"
      },
      "outputs": [
        {
          "output_type": "display_data",
          "data": {
            "text/plain": [
              "<Figure size 432x288 with 1 Axes>"
            ],
            "image/png": "[encoded data removed]"
          },
          "metadata": {
            "needs_background": "light"
          }
        }
      ],
      "source": [
        "# Plot node feature importance\n",
        "import matplotlib.pyplot as plt\n",
        "fig = plt.figure()\n",
        "ax = fig.add_axes([0,0,1,1])\n",
        "features = ['atomic_num', 'chirality', 'degree', 'formal_charge', 'num_hs', 'num_radical_electrons', 'hybridization', 'is_aromatic', 'is_in_ring']\n",
        "ax.bar(features, list(na_importance.cpu())[:9])\n",
        "\n",
        "plt.title(\"Node Feature Importance\")\n",
        "plt.xlabel(\"Node Feature\")\n",
        "plt.ylabel(\"Importance Score\")\n",
        "plt.setp(ax.get_xticklabels(), rotation=30, horizontalalignment='right')\n",
        "\n",
        "plt.show()"
      ]
    },
    {
      "cell_type": "code",
      "execution_count": 29,
      "metadata": {
        "colab": {
          "base_uri": "https://localhost:8080/",
          "height": 400
        },
        "id": "VnK-JgltGtru",
        "outputId": "7cc4bd4f-0613-45ad-f147-6879574646d5"
      },
      "outputs": [
        {
          "output_type": "display_data",
          "data": {
            "text/plain": [
              "<Figure size 432x288 with 1 Axes>"
            ],
            "image/png": "[encoded data removed]"
          },
          "metadata": {
            "needs_background": "light"
          }
        }
      ],
      "source": [
        "# Plot edge feature importance\n",
        "fig = plt.figure()\n",
        "ax = fig.add_axes([0,0,1,1])\n",
        "features = ['bond_type', 'stereo', 'is_conjugated']\n",
        "ax.bar(features, list(na_importance.cpu())[9:])\n",
        "\n",
        "plt.title(\"Edge Feature Importance\")\n",
        "plt.xlabel(\"Edge Feature\")\n",
        "plt.ylabel(\"Importance Score\")\n",
        "plt.setp(ax.get_xticklabels(), rotation=30, horizontalalignment='right')\n",
        "\n",
        "plt.show()"
      ]
    },
    {
      "cell_type": "markdown",
      "metadata": {
        "id": "Qq3kbZBFG-kK"
      },
      "source": [
        "### Explainability: Structural Importance"
      ]
    },
    {
      "cell_type": "code",
      "execution_count": 30,
      "metadata": {
        "id": "SqPM-KGUGxpi"
      },
      "outputs": [],
      "source": [
        "# Explainer for edge structure\n",
        "# Node mask: for each node object\n",
        "# Edge mask: for each edge object\n",
        "ob_explainer = Explainer(\n",
        "    model, \n",
        "    algorithm=explain.algorithm.GNNExplainer(),\n",
        "    explanation_type=\"model\", \n",
        "    model_config=ModelConfig(mode=\"binary_classification\", task_level=\"graph\", return_type=\"probs\"),\n",
        "    node_mask_type=\"object\",\n",
        "    edge_mask_type=\"object\"\n",
        ")"
      ]
    },
    {
      "cell_type": "code",
      "execution_count": 31,
      "metadata": {
        "id": "HLRLpbaTGzzV"
      },
      "outputs": [],
      "source": [
        "# get explanations for all of test set\n",
        "all_ob_explanations = []\n",
        "for graph_idx in range(len(test_set)):\n",
        "  data = test_set[graph_idx]\n",
        "  x, edge_index = data.x, data.edge_index\n",
        "  ob_explanation = ob_explainer(x.to(device), edge_index.to(device), batch=torch.tensor([0]).to(device))\n",
        "  all_ob_explanations.append(ob_explanation)"
      ]
    },
    {
      "cell_type": "code",
      "execution_count": 32,
      "metadata": {
        "id": "BQF5S688G2IN"
      },
      "outputs": [],
      "source": [
        "# Visualization\n",
        "from pickle import NONE\n",
        "from rdkit.Chem.Draw import rdMolDraw2D\n",
        "from rdkit.Chem import rdDepictor\n",
        "from matplotlib import colors\n",
        "from rdkit.Chem.Draw import IPythonConsole\n",
        "from IPython.display import SVG\n",
        "\n",
        "# Assign colors to nodes with higher than average scores\n",
        "def atom_col(atom_imp):\n",
        "  col = {}\n",
        "  threshold = torch.mean(atom_imp)\n",
        "  for i, imp in enumerate(atom_imp):\n",
        "    if imp > threshold:\n",
        "      col[i] = colors.to_rgb(\"#1BBC9B\")\n",
        "    else:\n",
        "      col[i] = colors.to_rgb('#D3D3D3')\n",
        "  return col\n",
        "    \n",
        "# Assign colors to edges with higher than average scores\n",
        "def bond_col(mol, bond_imp, edge_id, threshold=0.5):\n",
        "  col = {}\n",
        "  threshold = sum(bond_imp) / len(bond_imp)\n",
        "  for idx, bond in enumerate(mol.GetBonds()):\n",
        "      i, j = bond.GetBeginAtomIdx(), bond.GetEndAtomIdx()\n",
        "      i, j = min(i, j), max(i, j)\n",
        "      imp = bond_imp[edge_id.index((i, j))]\n",
        "      if imp > threshold:\n",
        "        col[i] = colors.to_rgb(\"#F06060\")\n",
        "      else:\n",
        "        col[i] = colors.to_rgb('#D3D3D3')\n",
        "  return col\n",
        "\n",
        "# Generate visualization for an atom\n",
        "def visualize_molecule_explanation(dataset, graph_idx):\n",
        "  data = dataset[graph_idx]\n",
        "  x, edge_index = data.x, data.edge_index\n",
        "  ob_explanation = ob_explainer(x.to(device), edge_index.to(device), batch=torch.tensor([0]).to(device))\n",
        "  atom_imp = ob_explanation.node_mask\n",
        "  bond_imp = []\n",
        "  edge_idx = []\n",
        "  # average the two \"directional\" edges for score of undirected edge\n",
        "  for i in range(len(ob_explanation.edge_mask)):\n",
        "    a, b = ob_explanation.edge_index[0][i].cpu(), ob_explanation.edge_index[1][i].cpu()\n",
        "    if a < b:\n",
        "      edge_idx.append((a, b))\n",
        "      temp = NONE\n",
        "      for i in range(len(edge_index[0])):\n",
        "        if edge_index[0][i].item() == b.item() and edge_index[1][i].item() == a.item():\n",
        "          temp = i\n",
        "          break\n",
        "      bond_imp.append((ob_explanation.edge_mask[i]+ob_explanation.edge_mask[temp])/2)\n",
        "  mol = Chem.MolFromSmiles(data.smiles)\n",
        "  cp = Chem.Mol(mol)\n",
        "  # generate colors according to importance scores\n",
        "  highlightAtomColors = atom_col(atom_imp)\n",
        "  highlightAtoms = list(highlightAtomColors.keys())\n",
        "  highlightBondColors = bond_col(mol, bond_imp, edge_idx)\n",
        "  highlightBonds = list(highlightBondColors.keys())\n",
        "\n",
        "  # draw image\n",
        "  image_width, image_height = 400, 200\n",
        "  rdDepictor.Compute2DCoords(cp, canonOrient=True)\n",
        "  drawer = rdMolDraw2D.MolDraw2DCairo(image_width, image_height)\n",
        "  drawer.drawOptions().useBWAtomPalette()\n",
        "  drawer.DrawMolecule(\n",
        "      cp,\n",
        "      highlightAtoms=highlightAtoms,\n",
        "      highlightAtomColors=highlightAtomColors,\n",
        "      highlightBonds=highlightBonds,\n",
        "      highlightBondColors=highlightBondColors,\n",
        "  )\n",
        "  drawer.FinishDrawing()\n",
        "  drawer.WriteDrawingText(f\"{graph_idx}.png\")\n"
      ]
    },
    {
      "cell_type": "code",
      "execution_count": 33,
      "metadata": {
        "id": "8gEuhiQaG27v"
      },
      "outputs": [],
      "source": [
        "# 5 random visualizations\n",
        "idx = random.sample(range(len(test_set)), 5)\n",
        "for i in idx:\n",
        "  visualize_molecule_explanation(test_set, i)"
      ]
    },
    {
      "cell_type": "markdown",
      "metadata": {
        "id": "F8ijirhraRhN"
      },
      "source": [
        "Note: to view the visualizations, click on the \"Files\" tab on the left and download the respective png files."
      ]
    }
  ],
  "metadata": {
    "colab": {
      "provenance": [],
      "collapsed_sections": [
        "44Xno8Fj8Msz",
        "vj5IRcsvBRp1"
      ]
    },
    "gpuClass": "standard",
    "kernelspec": {
      "display_name": "Python 3",
      "name": "python3"
    },
    "language_info": {
      "name": "python"
    }
  },
  "nbformat": 4,
  "nbformat_minor": 0
}